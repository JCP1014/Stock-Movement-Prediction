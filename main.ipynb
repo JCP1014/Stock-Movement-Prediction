{
 "cells": [
  {
   "cell_type": "markdown",
   "metadata": {
    "colab_type": "text",
    "id": "LBd4i7L7KLud"
   },
   "source": [
    "# FDA_HW3-1\n",
    "Implement Logistic Regression, Neural Network, and one other classifier to predict the stock movement.  \n",
    "Dataset:　[S&P 500](https://www.sharecast.com/index/SP_500/prices/download)  \n",
    "* Training set:　02-Jan-2009 to 29-Dec-2017  \n",
    "* Test set:　02-Jan-2018 to 31-Dec-2018"
   ]
  },
  {
   "cell_type": "code",
   "execution_count": 0,
   "metadata": {
    "colab": {
     "base_uri": "https://localhost:8080/",
     "height": 493
    },
    "colab_type": "code",
    "executionInfo": {
     "elapsed": 804,
     "status": "ok",
     "timestamp": 1589881751877,
     "user": {
      "displayName": "F74056124簡丞珮",
      "photoUrl": "",
      "userId": "04431724202461268588"
     },
     "user_tz": -480
    },
    "id": "bJv6aJAVmmoX",
    "outputId": "5cbad267-84df-4519-c5e4-637ee2a79728"
   },
   "outputs": [
    {
     "name": "stdout",
     "output_type": "stream",
     "text": [
      "<class 'pandas.core.frame.DataFrame'>\n",
      "RangeIndex: 2264 entries, 0 to 2263\n",
      "Data columns (total 6 columns):\n",
      " #   Column       Non-Null Count  Dtype  \n",
      "---  ------       --------------  -----  \n",
      " 0   Date         2264 non-null   object \n",
      " 1   Open Price   2264 non-null   float64\n",
      " 2   Close Price  2264 non-null   float64\n",
      " 3   High Price   2264 non-null   float64\n",
      " 4   Low Price    2264 non-null   float64\n",
      " 5   Volume       2264 non-null   int64  \n",
      "dtypes: float64(4), int64(1), object(1)\n",
      "memory usage: 106.2+ KB\n",
      "None\n",
      "<class 'pandas.core.frame.DataFrame'>\n",
      "RangeIndex: 252 entries, 0 to 251\n",
      "Data columns (total 6 columns):\n",
      " #   Column       Non-Null Count  Dtype  \n",
      "---  ------       --------------  -----  \n",
      " 0   Date         252 non-null    object \n",
      " 1   Open Price   252 non-null    float64\n",
      " 2   Close Price  252 non-null    float64\n",
      " 3   High Price   252 non-null    float64\n",
      " 4   Low Price    252 non-null    float64\n",
      " 5   Volume       252 non-null    int64  \n",
      "dtypes: float64(4), int64(1), object(1)\n",
      "memory usage: 11.9+ KB\n",
      "None\n"
     ]
    }
   ],
   "source": [
    "import numpy as np\n",
    "import pandas as pd\n",
    "from datetime import datetime\n",
    "\n",
    "# 讀取資料並用info()看是否有缺失值需填補\n",
    "train = pd.read_csv('./stock_train.csv')\n",
    "test =  pd.read_csv('./stock_test.csv')\n",
    "print(train.info())\n",
    "print(test.info())"
   ]
  },
  {
   "cell_type": "markdown",
   "metadata": {
    "colab_type": "text",
    "id": "MPDb7Ts_E6zY"
   },
   "source": [
    "## 資料分析與前處理"
   ]
  },
  {
   "cell_type": "code",
   "execution_count": 0,
   "metadata": {
    "colab": {
     "base_uri": "https://localhost:8080/",
     "height": 136
    },
    "colab_type": "code",
    "executionInfo": {
     "elapsed": 897,
     "status": "ok",
     "timestamp": 1589883139254,
     "user": {
      "displayName": "F74056124簡丞珮",
      "photoUrl": "",
      "userId": "04431724202461268588"
     },
     "user_tz": -480
    },
    "id": "cQEFrkq1EkL2",
    "outputId": "98690f1a-420e-48e8-b414-a28847bf78a0"
   },
   "outputs": [
    {
     "name": "stdout",
     "output_type": "stream",
     "text": [
      "931.8\n",
      "        Date  Open Price  Close Price  High Price  Low Price      Volume  Move\n",
      "0 2009-01-02      902.99       931.80      934.73     899.35  4048270080   NaN\n",
      "1 2009-01-05      929.17       927.45      936.63     919.53  5413910016   0.0\n",
      "2 2009-01-06      931.17       934.70      943.85     927.28  5392620032   1.0\n",
      "3 2009-01-07      927.45       906.65      927.45     902.37  4704940032   0.0\n",
      "4 2009-01-08      905.73       909.73      910.00     896.81  4991549952   1.0\n"
     ]
    }
   ],
   "source": [
    "def preprocessing(df):\n",
    "  df['Date'] = pd.to_datetime(df['Date'])\n",
    "  # df = df.sort_values(\"Date\")\n",
    "  move_list = []\n",
    "\n",
    "  for index, row in df.iterrows():\n",
    "    if index==0:\n",
    "      move_list.append(None)\n",
    "    else:\n",
    "        if df['Close Price'][index] <  df['Close Price'][index-1]:\n",
    "          move_list.append(0)\n",
    "        else:\n",
    "          move_list.append(1)\n",
    "  df['Move'] = move_list\n",
    "  \n",
    "preprocessing(train)"
   ]
  },
  {
   "cell_type": "markdown",
   "metadata": {
    "colab_type": "text",
    "id": "dQiqfwzyOEEH"
   },
   "source": [
    "### 增加欄位\n",
    "'move'欄位計算收盤價相較於前一天是漲或跌"
   ]
  },
  {
   "cell_type": "code",
   "execution_count": 0,
   "metadata": {
    "colab": {},
    "colab_type": "code",
    "id": "5wZMHoN5OEYj"
   },
   "outputs": [],
   "source": []
  }
 ],
 "metadata": {
  "colab": {
   "name": "main.ipynb",
   "provenance": []
  },
  "kernelspec": {
   "display_name": "Python 3",
   "language": "python",
   "name": "python3"
  },
  "language_info": {
   "codemirror_mode": {
    "name": "ipython",
    "version": 3
   },
   "file_extension": ".py",
   "mimetype": "text/x-python",
   "name": "python",
   "nbconvert_exporter": "python",
   "pygments_lexer": "ipython3",
   "version": "3.6.9"
  }
 },
 "nbformat": 4,
 "nbformat_minor": 1
}
